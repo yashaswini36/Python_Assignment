{
  "nbformat": 4,
  "nbformat_minor": 0,
  "metadata": {
    "colab": {
      "name": "Python_Assingment_4.ipynb",
      "provenance": [],
      "collapsed_sections": []
    },
    "kernelspec": {
      "name": "python3",
      "display_name": "Python 3"
    }
  },
  "cells": [
    {
      "cell_type": "code",
      "metadata": {
        "id": "gdgsa08tgtzw",
        "colab_type": "code",
        "colab": {
          "base_uri": "https://localhost:8080/",
          "height": 85
        },
        "outputId": "17906839-e84f-4695-b66d-9adc950b281e"
      },
      "source": [
        "# finding of max value from given values\n",
        "a=float(input(\"enter a value: \"))\n",
        "b=float(input(\"enter a value: \"))\n",
        "c=float(input(\"enter a value: \"))\n",
        "def biggest(a,b,c):\n",
        "    if a>b and a>c :\n",
        "        print(\"Biggest Number=\",a)\n",
        "    if b>a and b>c:\n",
        "        print(\"Biggest Number=\",b)\n",
        "    if a<b and a<c:\n",
        "      print(\"Biggest Number=\",c)  \n",
        "biggest(a,b,c)"
      ],
      "execution_count": 45,
      "outputs": [
        {
          "output_type": "stream",
          "text": [
            "enter a value: 45\n",
            "enter a value: 89\n",
            "enter a value: 23\n",
            "Biggest Number= 89.0\n"
          ],
          "name": "stdout"
        }
      ]
    },
    {
      "cell_type": "code",
      "metadata": {
        "id": "y7LBuo3Ig8yN",
        "colab_type": "code",
        "colab": {
          "base_uri": "https://localhost:8080/",
          "height": 68
        },
        "outputId": "97d3588a-3bf0-46b5-fffe-b7921dd36ae1"
      },
      "source": [
        "# reverse of a string\n",
        "s=input(\"enter your string: \")\n",
        "def reverse(string): \n",
        "    string = \"\".join(reversed(string)) \n",
        "    return string \n",
        "  \n",
        "print (\"The original string  is : \",end=\"\") \n",
        "print (s) \n",
        "  \n",
        "print (\"The reversed string is : \",end=\"\") \n",
        "print (reverse(s)) "
      ],
      "execution_count": 46,
      "outputs": [
        {
          "output_type": "stream",
          "text": [
            "enter your string: python\n",
            "The original string  is : python\n",
            "The reversed string is : nohtyp\n"
          ],
          "name": "stdout"
        }
      ]
    },
    {
      "cell_type": "code",
      "metadata": {
        "id": "fOwNTXTWijw4",
        "colab_type": "code",
        "colab": {
          "base_uri": "https://localhost:8080/",
          "height": 51
        },
        "outputId": "f3c1955c-7ce9-45cf-d7d3-ea89c7affc2e"
      },
      "source": [
        "# prime or not\n",
        "number = int(input(\"Enter any number: \"))\n",
        "if number > 1:\n",
        "    for i in range(2, number):\n",
        "        if (number % i) == 0:\n",
        "            print(number, \"is not a prime number\")\n",
        "            break\n",
        "    else:\n",
        "        print(number, \"is a prime number\")\n",
        "else:\n",
        "    print(number, \"is not a prime number\")"
      ],
      "execution_count": 47,
      "outputs": [
        {
          "output_type": "stream",
          "text": [
            "Enter any number: 97\n",
            "97 is a prime number\n"
          ],
          "name": "stdout"
        }
      ]
    },
    {
      "cell_type": "code",
      "metadata": {
        "id": "yNY2YtaIldPW",
        "colab_type": "code",
        "colab": {
          "base_uri": "https://localhost:8080/",
          "height": 68
        },
        "outputId": "7c96e852-5e84-48dc-f2e5-32ac3d3becf9"
      },
      "source": [
        "# palindrome or not\n",
        "def palindromeornot():\n",
        "    try:\n",
        "        num=int(input(\"enter a number: \"))\n",
        "    except  exception as ValueError:\n",
        "        print(\"invalid input enter a integer\")\n",
        "    else:\n",
        "        temp=num\n",
        "        rev=0\n",
        "        while(num>0):\n",
        "            dig=num%10\n",
        "            rev=rev*10+dig\n",
        "            num=num//10\n",
        "        if(temp==rev):\n",
        "            print(\"the number is palindrome\")\n",
        "        else:\n",
        "            print(\"the number is not a palindrome\")\n",
        "    finally:\n",
        "        print(\"program executed successfully\")\n",
        "palindromeornot()"
      ],
      "execution_count": 44,
      "outputs": [
        {
          "output_type": "stream",
          "text": [
            "enter a number: 44\n",
            "the number is palindrome\n",
            "program executed successfully\n"
          ],
          "name": "stdout"
        }
      ]
    },
    {
      "cell_type": "markdown",
      "metadata": {
        "id": "DfKfyLzUAsS-",
        "colab_type": "text"
      },
      "source": [
        ""
      ]
    },
    {
      "cell_type": "code",
      "metadata": {
        "id": "Hn6VQJdQ7Icv",
        "colab_type": "code",
        "colab": {
          "base_uri": "https://localhost:8080/",
          "height": 51
        },
        "outputId": "83f48f10-b968-48d2-e268-d2391b5bf1ec"
      },
      "source": [
        "# sum of squares if n natural numbers\n",
        "n=int(input(\"enter your value: \"))\n",
        "def squaresum(n) : \n",
        "\tsm = 0\n",
        "\tfor i in range(1, n+1) : \n",
        "\t\tsm = sm + (i * i) \n",
        "\treturn sm \n",
        "print(squaresum(n)) \n",
        "\n"
      ],
      "execution_count": 17,
      "outputs": [
        {
          "output_type": "stream",
          "text": [
            "enter your value: 5\n",
            "55\n"
          ],
          "name": "stdout"
        }
      ]
    }
  ]
}