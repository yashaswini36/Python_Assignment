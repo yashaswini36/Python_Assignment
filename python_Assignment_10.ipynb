{
  "nbformat": 4,
  "nbformat_minor": 0,
  "metadata": {
    "colab": {
      "name": "python_Assignment_10.ipynb",
      "provenance": [],
      "collapsed_sections": []
    },
    "kernelspec": {
      "name": "python3",
      "display_name": "Python 3"
    }
  },
  "cells": [
    {
      "cell_type": "code",
      "metadata": {
        "id": "Zm7ENaW4vb7x",
        "colab_type": "code",
        "colab": {
          "base_uri": "https://localhost:8080/",
          "height": 51
        },
        "outputId": "e025c01d-c468-43b3-ef75-592a19095e71"
      },
      "source": [
        "#Python program to clone or copy a list. \n",
        "original_list = [10, 22, 44, 23, 4]  \n",
        "new_list = list(original_list)  \n",
        "print(original_list)  \n",
        "print(new_list) "
      ],
      "execution_count": 1,
      "outputs": [
        {
          "output_type": "stream",
          "text": [
            "[10, 22, 44, 23, 4]\n",
            "[10, 22, 44, 23, 4]\n"
          ],
          "name": "stdout"
        }
      ]
    },
    {
      "cell_type": "code",
      "metadata": {
        "id": "Zi9AXjBP5NDY",
        "colab_type": "code",
        "colab": {
          "base_uri": "https://localhost:8080/",
          "height": 34
        },
        "outputId": "d1b6157d-281a-424b-ff9c-a981172a84fb"
      },
      "source": [
        "#Python program to print a specified list after removing the 0th, 4th and 5th elements.\n",
        "color = ['Red', 'Green', 'White', 'Black', 'Pink', 'Yellow']\n",
        "color = [x for (i,x) in enumerate(color) if i not in (0,4,5)]\n",
        "print(color)\n"
      ],
      "execution_count": 2,
      "outputs": [
        {
          "output_type": "stream",
          "text": [
            "['Green', 'White', 'Black']\n"
          ],
          "name": "stdout"
        }
      ]
    },
    {
      "cell_type": "code",
      "metadata": {
        "id": "wnqY98Ea5xSV",
        "colab_type": "code",
        "colab": {
          "base_uri": "https://localhost:8080/",
          "height": 34
        },
        "outputId": "c88e78e4-fd6e-4a01-fde8-320c4b4c2d64"
      },
      "source": [
        "#Python program to print the numbers of a specified list after removing even numbers from it\n",
        "num = [7,8, 120, 25, 44, 20, 27]\n",
        "num = [x for x in num if x%2!=0]\n",
        "print(num)\n"
      ],
      "execution_count": 3,
      "outputs": [
        {
          "output_type": "stream",
          "text": [
            "[7, 25, 27]\n"
          ],
          "name": "stdout"
        }
      ]
    },
    {
      "cell_type": "code",
      "metadata": {
        "id": "mLU0n4Lc6EKY",
        "colab_type": "code",
        "colab": {
          "base_uri": "https://localhost:8080/",
          "height": 34
        },
        "outputId": "85d63e6c-f8e5-4c84-b968-7bf38b402642"
      },
      "source": [
        "#python program to find unique elements from a list.\n",
        "def unique_list(l):\n",
        "  x = []\n",
        "  for a in l:\n",
        "    if a not in x:\n",
        "      x.append(a)\n",
        "  return x\n",
        "\n",
        "print(unique_list([1,2,3,3,3,3,4,5])) \n"
      ],
      "execution_count": 4,
      "outputs": [
        {
          "output_type": "stream",
          "text": [
            "[1, 2, 3, 4, 5]\n"
          ],
          "name": "stdout"
        }
      ]
    },
    {
      "cell_type": "code",
      "metadata": {
        "id": "2WGNYMGu8igl",
        "colab_type": "code",
        "colab": {
          "base_uri": "https://localhost:8080/",
          "height": 34
        },
        "outputId": "1e66d194-279b-41e3-d3b3-f56cd52c98bb"
      },
      "source": [
        "#function that checks whether a number is in a given range.\n",
        "def test_range(n):\n",
        "    if n in range(3,9):\n",
        "        print( \" %s is in the range\"%str(n))\n",
        "    else :\n",
        "        print(\"The number is outside the given range.\")\n",
        "test_range(5)\n"
      ],
      "execution_count": 5,
      "outputs": [
        {
          "output_type": "stream",
          "text": [
            " 5 is in the range\n"
          ],
          "name": "stdout"
        }
      ]
    },
    {
      "cell_type": "code",
      "metadata": {
        "id": "LCYpLOQm8v8J",
        "colab_type": "code",
        "colab": {
          "base_uri": "https://localhost:8080/",
          "height": 68
        },
        "outputId": "e18d93e0-e78d-4f2a-c3ba-21a5a243aa53"
      },
      "source": [
        "# python function that accepts a string and calculates the number of upper case letters and lower case letters.\n",
        "def string_test(s):\n",
        "    d={\"UPPER_CASE\":0, \"LOWER_CASE\":0}\n",
        "    for c in s:\n",
        "        if c.isupper():\n",
        "           d[\"UPPER_CASE\"]+=1\n",
        "        elif c.islower():\n",
        "           d[\"LOWER_CASE\"]+=1\n",
        "        else:\n",
        "           pass\n",
        "    print (\"Original String : \", s)\n",
        "    print (\"No. of Upper case characters : \", d[\"UPPER_CASE\"])\n",
        "    print (\"No. of Lower case Characters : \", d[\"LOWER_CASE\"])\n",
        "\n",
        "string_test('The quick Brown Fox')\n"
      ],
      "execution_count": 6,
      "outputs": [
        {
          "output_type": "stream",
          "text": [
            "Original String :  The quick Brown Fox\n",
            "No. of Upper case characters :  3\n",
            "No. of Lower case Characters :  13\n"
          ],
          "name": "stdout"
        }
      ]
    },
    {
      "cell_type": "code",
      "metadata": {
        "id": "lsWNQaHk9j7e",
        "colab_type": "code",
        "colab": {}
      },
      "source": [
        "#"
      ],
      "execution_count": null,
      "outputs": []
    }
  ]
}