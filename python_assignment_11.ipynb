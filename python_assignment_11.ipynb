{
  "nbformat": 4,
  "nbformat_minor": 0,
  "metadata": {
    "colab": {
      "name": "python_assignment_11.ipynb",
      "provenance": [],
      "collapsed_sections": []
    },
    "kernelspec": {
      "name": "python3",
      "display_name": "Python 3"
    }
  },
  "cells": [
    {
      "cell_type": "code",
      "metadata": {
        "id": "UxhzeCKzIPaD",
        "colab_type": "code",
        "colab": {}
      },
      "source": [
        "#Python program to read first n lines of a file\n",
        "number_of_lines = int(input(\"enter no of lines to be printed: \"))\n",
        "a_file = open(\"file_name.txt\")\n",
        "for i in range(number_of_lines):\n",
        "    line = a_file.readline()\n",
        "    print(line)"
      ],
      "execution_count": null,
      "outputs": []
    },
    {
      "cell_type": "markdown",
      "metadata": {
        "id": "tQxh2QRYQply",
        "colab_type": "text"
      },
      "source": [
        "enter no of lines to be printed: 2\n",
        "\n",
        "Python is a widely used high-level, general-purpose, interpreted, dynamic programming language.Its design philosophy emphasizes code readability. "
      ]
    },
    {
      "cell_type": "code",
      "metadata": {
        "id": "cjpx-AL0RALK",
        "colab_type": "code",
        "colab": {}
      },
      "source": [
        "#Python program to append text to a file and display the text. \n",
        "def file_read(fname):\n",
        "        from itertools import islice\n",
        "        with open(fname, \"w\") as myfile:\n",
        "                myfile.write(\"Python Exercises\\n\")\n",
        "                myfile.write(\"Java Exercises\")\n",
        "        txt = open(fname)\n",
        "        print(txt.read())\n",
        "file_read('abc.txt')\n"
      ],
      "execution_count": null,
      "outputs": []
    },
    {
      "cell_type": "markdown",
      "metadata": {
        "id": "zPJ_-qwKRh-X",
        "colab_type": "text"
      },
      "source": [
        "Python Exercises                                                                                              \n",
        "Java Exercises "
      ]
    },
    {
      "cell_type": "code",
      "metadata": {
        "id": "9po3UhA9RukE",
        "colab_type": "code",
        "colab": {}
      },
      "source": [
        "#Python program to read a file line by line and store it into a list. \n",
        "def file_read(fname):\n",
        "        with open(fname) as f:\n",
        "                #Content_list is the list that contains the read lines.     \n",
        "                content_list = f.readlines()\n",
        "                print(content_list)\n",
        "\n",
        "file_read(\\'test.txt\\')\n"
      ],
      "execution_count": null,
      "outputs": []
    },
    {
      "cell_type": "markdown",
      "metadata": {
        "id": "Bxht41eHR9Bx",
        "colab_type": "text"
      },
      "source": [
        "['Welcome to python.\\n', 'Append this text.Append this text.Append this text.\\n', 'Append this text.\\n\n",
        "', 'Append this text.\\n', 'Append this text.\\n', 'Append this text.\\n'] "
      ]
    },
    {
      "cell_type": "code",
      "metadata": {
        "id": "ZgOvKhkWSGAP",
        "colab_type": "code",
        "colab": {}
      },
      "source": [
        "#Python program to count the number of lines in a text file. \n",
        "def file_lengthy(fname):\n",
        "        with open(fname) as f:\n",
        "                for i, l in enumerate(f):\n",
        "                        pass\n",
        "        return i + 1\n",
        "print(\"Number of lines in the file: \",file_lengthy(\"test.txt\"))\n"
      ],
      "execution_count": null,
      "outputs": []
    },
    {
      "cell_type": "markdown",
      "metadata": {
        "id": "XyTXc84gSPH-",
        "colab_type": "text"
      },
      "source": [
        "Number of lines in the file:  6"
      ]
    },
    {
      "cell_type": "code",
      "metadata": {
        "id": "5Sv4bOrFSTZg",
        "colab_type": "code",
        "colab": {}
      },
      "source": [
        "#Python program to get the file size of a plain file\n",
        "import os\n",
        "file_size = os.path.getsize(\"abc.txt\")\n",
        "print(\"\\nThe size of abc.txt is :\",file_size,\"Bytes\")\n",
        "print()\n"
      ],
      "execution_count": null,
      "outputs": []
    },
    {
      "cell_type": "markdown",
      "metadata": {
        "id": "jzpjY0CRScPX",
        "colab_type": "text"
      },
      "source": [
        "The size of abc.txt is : 0 Bytes"
      ]
    },
    {
      "cell_type": "code",
      "metadata": {
        "id": "twE-YthqShfr",
        "colab_type": "code",
        "colab": {}
      },
      "source": [
        "#Python program to copy the contents of a file to another file .\n",
        "from shutil import copyfile\n",
        "copyfile('test.py', 'abc.py')\n"
      ],
      "execution_count": null,
      "outputs": []
    },
    {
      "cell_type": "markdown",
      "metadata": {
        "id": "azjzixDFStH-",
        "colab_type": "text"
      },
      "source": [
        "abc.py"
      ]
    }
  ]
}