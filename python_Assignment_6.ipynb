{
  "nbformat": 4,
  "nbformat_minor": 0,
  "metadata": {
    "colab": {
      "name": "python_Assignment_6.ipynb",
      "provenance": [],
      "collapsed_sections": []
    },
    "kernelspec": {
      "name": "python3",
      "display_name": "Python 3"
    }
  },
  "cells": [
    {
      "cell_type": "code",
      "metadata": {
        "id": "neDfbNJmuiQn",
        "colab_type": "code",
        "colab": {
          "base_uri": "https://localhost:8080/",
          "height": 51
        },
        "outputId": "1bf0fdbd-1aef-419b-e600-86359109ff42"
      },
      "source": [
        "# converting binary to decimal\n",
        "b_num = list(input(\"Input a binary number: \"))\n",
        "value = 0\n",
        "\n",
        "for i in range(len(b_num)):\n",
        "\tdigit = b_num.pop()\n",
        "\tif digit == '1':\n",
        "\t\tvalue = value + pow(2, i)\n",
        "print(\"The decimal value of the number is:\", value)"
      ],
      "execution_count": 2,
      "outputs": [
        {
          "output_type": "stream",
          "text": [
            "Input a binary number: 10010\n",
            "The decimal value of the number is: 18\n"
          ],
          "name": "stdout"
        }
      ]
    },
    {
      "cell_type": "code",
      "metadata": {
        "id": "MqntdVDpv76o",
        "colab_type": "code",
        "colab": {
          "base_uri": "https://localhost:8080/",
          "height": 51
        },
        "outputId": "06ecdfc9-4663-42f4-db2a-d7dc708f2ae7"
      },
      "source": [
        "#Python program to generate Fibonacci series until 'n' value\n",
        "n = int(input(\"Enter the value of n: \"))\n",
        "a = 0\n",
        "b = 1\n",
        "sum = 0\n",
        "count = 1\n",
        "print(\"Fibonacci Series: \", end = \" \")\n",
        "while(count <= n):\n",
        "  print(sum, end = \" \")\n",
        "  count += 1\n",
        "  a = b\n",
        "  b = sum\n",
        "  sum = a + b"
      ],
      "execution_count": 4,
      "outputs": [
        {
          "output_type": "stream",
          "text": [
            "Enter the value of n: 10\n",
            "Fibonacci Series:  0 1 1 2 3 5 8 13 21 34 "
          ],
          "name": "stdout"
        }
      ]
    },
    {
      "cell_type": "code",
      "metadata": {
        "id": "7zqBpibww8Yk",
        "colab_type": "code",
        "colab": {
          "base_uri": "https://localhost:8080/",
          "height": 204
        },
        "outputId": "0023a520-0d8f-402f-8694-b9adfb10ef2f"
      },
      "source": [
        "#multiplication table\n",
        "k=int(input(\"Enter a number:\"))\n",
        "for i in range(1, 11):\n",
        "   print(k, 'x', i, '=', k*i)"
      ],
      "execution_count": 6,
      "outputs": [
        {
          "output_type": "stream",
          "text": [
            "Enter a number:7\n",
            "7 x 1 = 7\n",
            "7 x 2 = 14\n",
            "7 x 3 = 21\n",
            "7 x 4 = 28\n",
            "7 x 5 = 35\n",
            "7 x 6 = 42\n",
            "7 x 7 = 49\n",
            "7 x 8 = 56\n",
            "7 x 9 = 63\n",
            "7 x 10 = 70\n"
          ],
          "name": "stdout"
        }
      ]
    },
    {
      "cell_type": "code",
      "metadata": {
        "id": "LlE_G5xez2ws",
        "colab_type": "code",
        "colab": {
          "base_uri": "https://localhost:8080/",
          "height": 68
        },
        "outputId": "882dad7e-86c6-4d05-ae25-4ffbec9d6d2c"
      },
      "source": [
        "#HCF\n",
        "num1 = int(input(\"enter first value:\"))\n",
        "num2 = int(input(\"enter second value:\"))\n",
        "def compute_hcf(x, y):\n",
        "    if x > y:\n",
        "        smaller = y\n",
        "    else:\n",
        "        smaller = x\n",
        "    for i in range(1, smaller+1):\n",
        "        if((x % i == 0) and (y % i == 0)):\n",
        "            hcf = i \n",
        "    return hcf\n",
        "\n",
        "print(\"The H.C.F. is\", compute_hcf(num1, num2))"
      ],
      "execution_count": 7,
      "outputs": [
        {
          "output_type": "stream",
          "text": [
            "enter first value:54\n",
            "enter second value:6\n",
            "The H.C.F. is 6\n"
          ],
          "name": "stdout"
        }
      ]
    },
    {
      "cell_type": "code",
      "metadata": {
        "id": "LL-gi4fe3Qdp",
        "colab_type": "code",
        "colab": {
          "base_uri": "https://localhost:8080/",
          "height": 68
        },
        "outputId": "442097c5-a24c-413a-8206-e98b699767d9"
      },
      "source": [
        "# Python code to reverse a word\n",
        "s=input(\"enter your word:\") \n",
        "def reverse(string): \n",
        "\tstring = \"\".join(reversed(string)) \n",
        "\treturn string \n",
        "\n",
        "print (\"The original string is : \",end=\"\") \n",
        "print (s) \n",
        "\n",
        "print (\"The reversed string is : \",end=\"\") \n",
        "print (reverse(s)) \n"
      ],
      "execution_count": 8,
      "outputs": [
        {
          "output_type": "stream",
          "text": [
            "enter your word:hello world\n",
            "The original string is : hello world\n",
            "The reversed string is : dlrow olleh\n"
          ],
          "name": "stdout"
        }
      ]
    },
    {
      "cell_type": "code",
      "metadata": {
        "id": "edXf1rz44kgh",
        "colab_type": "code",
        "colab": {
          "base_uri": "https://localhost:8080/",
          "height": 51
        },
        "outputId": "2b9dd37f-5bb4-4bd5-be48-ec03f5c52845"
      },
      "source": [
        "# count of odd and even numbers\n",
        "numbers = (1, 2, 3, 4, 5, 6, 7, 8, 9)\n",
        "count_odd = 0\n",
        "count_even = 0\n",
        "for x in numbers:\n",
        "        if not x % 2:\n",
        "    \t     count_even+=1\n",
        "        else:\n",
        "    \t     count_odd+=1\n",
        "print(\"Number of even numbers :\",count_even)\n",
        "print(\"Number of odd numbers :\",count_odd)\n"
      ],
      "execution_count": 9,
      "outputs": [
        {
          "output_type": "stream",
          "text": [
            "Number of even numbers : 4\n",
            "Number of odd numbers : 5\n"
          ],
          "name": "stdout"
        }
      ]
    }
  ]
}