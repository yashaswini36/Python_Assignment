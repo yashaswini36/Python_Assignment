{
  "nbformat": 4,
  "nbformat_minor": 0,
  "metadata": {
    "colab": {
      "name": "python_Assignment_5.ipynb",
      "provenance": [],
      "collapsed_sections": []
    },
    "kernelspec": {
      "name": "python3",
      "display_name": "Python 3"
    }
  },
  "cells": [
    {
      "cell_type": "code",
      "metadata": {
        "id": "OG_9uzbccrSW",
        "colab_type": "code",
        "colab": {
          "base_uri": "https://localhost:8080/",
          "height": 51
        },
        "outputId": "f12646d0-636e-4e47-cf3f-fe5d4b90537e"
      },
      "source": [
        "#program to find area of circle using functions\n",
        "import math\n",
        "\n",
        "#Function that calculates area of circle\n",
        "def area_of_circle(r): \n",
        "    a = r**2 * math.pi\n",
        "    return a\n",
        "\n",
        "r = float(input(\"Enter the radius of the circle: \"))\n",
        "print(\"%.2f\" %area_of_circle(r))"
      ],
      "execution_count": 1,
      "outputs": [
        {
          "output_type": "stream",
          "text": [
            "Enter the radius of the circle: 45\n",
            "6361.73\n"
          ],
          "name": "stdout"
        }
      ]
    },
    {
      "cell_type": "code",
      "metadata": {
        "id": "pp03-epjc8ts",
        "colab_type": "code",
        "colab": {
          "base_uri": "https://localhost:8080/",
          "height": 68
        },
        "outputId": "848cd91c-0758-48ec-ce2e-b3cad1c2d5ec"
      },
      "source": [
        "# area of regular polygon using math function.\n",
        "import math\n",
        "if __name__==\"__main__\":\n",
        "    num_sides = int(input(\"Enter the number of sides: \"))\n",
        "    side_length = float(input(\"Enter the side: \"))\n",
        "    def polygon_area(n_sides, length):\n",
        "        area = (n_sides * (length ** 2)) / (4 * math.tan((math.pi) / n_sides))\n",
        "        print(\"Area of regular polygon:\",area)\n",
        "    polygon_area(num_sides, side_length)"
      ],
      "execution_count": 3,
      "outputs": [
        {
          "output_type": "stream",
          "text": [
            "Enter the number of sides: 6\n",
            "Enter the side: 4\n",
            "Area of regular polygon: 41.569219381653056\n"
          ],
          "name": "stdout"
        }
      ]
    },
    {
      "cell_type": "code",
      "metadata": {
        "id": "FU4w7A9yfPwf",
        "colab_type": "code",
        "colab": {
          "base_uri": "https://localhost:8080/",
          "height": 68
        },
        "outputId": "a0aa0d09-2611-4cb6-c2bb-07d608149624"
      },
      "source": [
        "#area of a segment of a circle using math function\n",
        "import math\n",
        "\n",
        "diamStr=input(\"Enter the length of the diameter: \")\n",
        "diameter=int(diamStr)\n",
        "\n",
        "chordStr = input(\"Enter the chord length: \")\n",
        "chord = int(chordStr)\n",
        "\n",
        "radius = (diameter/2)\n",
        "theta = math.acos((radius**2 + radius**2 - chord**2)/(2*radius**2))\n",
        "\n",
        "area = 1/2 * (theta - math.sin(theta)) * radius**2\n",
        "\n",
        "#print(round((area),2))\n",
        "print(\"Area of segement of a circle:\",area)\n",
        "    "
      ],
      "execution_count": 4,
      "outputs": [
        {
          "output_type": "stream",
          "text": [
            "Enter the length of the diameter: 12\n",
            "Enter the chord length: 6\n",
            "Area of segement of a circle: 3.2610986534188644\n"
          ],
          "name": "stdout"
        }
      ]
    },
    {
      "cell_type": "code",
      "metadata": {
        "id": "TnRXupR6g7PP",
        "colab_type": "code",
        "colab": {
          "base_uri": "https://localhost:8080/",
          "height": 34
        },
        "outputId": "9f987aa4-a905-4cb2-cda3-1d6d5ec1068a"
      },
      "source": [
        "#shuffling a given list\n",
        "from random import shuffle\n",
        "list = [100,1,2,3,30,40,\"hai\",\"hello\"]\n",
        "shuffle(list)\n",
        "print(\"The shuffled list is:\",list)"
      ],
      "execution_count": 6,
      "outputs": [
        {
          "output_type": "stream",
          "text": [
            "The shuffled list is: [40, 3, 2, 100, 1, 'hello', 'hai', 30]\n"
          ],
          "name": "stdout"
        }
      ]
    },
    {
      "cell_type": "code",
      "metadata": {
        "id": "CWLxSGcUkSzZ",
        "colab_type": "code",
        "colab": {
          "base_uri": "https://localhost:8080/",
          "height": 204
        },
        "outputId": "e261c66c-f2bf-4ed0-99d1-c4214fcca2a9"
      },
      "source": [
        "# sin 60 value using math module\n",
        "import math\n",
        "sin_60 = math.sin(math.radians(60))\n",
        "print (\"The sin of 60 is = \",  sin_60)\n",
        "\n",
        "# tan 90\n",
        "import math\n",
        "tan_90 = math.tan(math.radians(90))\n",
        "print (\"The value of tan 90 is = \",tan_90)\n",
        "\n",
        "# cos pi\n",
        "import math\n",
        "print (\"The cos(pi) value is : \",  math.cos(math.pi))\n",
        "\n",
        "#angle of sin(0.8660254037844386)\n",
        "import math\n",
        "print(\"angle of sin(0.8660254037844386) is:\",round(math.degrees((math.pi/3))))\n",
        "\n",
        "# 5^8\n",
        "import math\n",
        "a=5\n",
        "b=8\n",
        "print(\"The value of 5^8 is:\",a ^ b)\n",
        "\n",
        "# sqrt of 400\n",
        "import math  \n",
        "print(\"squareroot of 400 is:\",math.sqrt(400))\n",
        "\n",
        "# value of 5^e\n",
        "import math\n",
        "exponent = 5\n",
        "print (\"Exponential Value is: \", math.exp(exponent))\n",
        "\n",
        "# log2(1024)\n",
        "import math\n",
        "print (\"The value of Log2(1024) is :\", end=\"\") \n",
        "print (math.log2(1024))\n",
        "\n",
        "# log10(1024)\n",
        "import math\n",
        "print (\"The value of Log2(1024) is :\", end=\"\") \n",
        "print (math.log10(1024))\n",
        "\n",
        "# floor and ceiling value of 23.56\n",
        "import math\n",
        "print (\"The floor value of 23.56 :\",math.floor(23.56) )\n",
        "print (\"The ceil value of 23.56 :\",math.ceil(23.56) )\n"
      ],
      "execution_count": 2,
      "outputs": [
        {
          "output_type": "stream",
          "text": [
            "The sin of 60 is =  0.8660254037844386\n",
            "The value of tan 90 is =  1.633123935319537e+16\n",
            "The cos(pi) value is :  -1.0\n",
            "angle of sin(0.8660254037844386) is: 60\n",
            "The value of 5^8 is: 13\n",
            "squareroot of 400 is: 20.0\n",
            "Exponential Value is:  148.4131591025766\n",
            "The value of Log2(1024) is :10.0\n",
            "The value of Log2(1024) is :3.010299956639812\n",
            "The floor value of 23.56 : 23\n",
            "The ceil value of 23.56 : 24\n"
          ],
          "name": "stdout"
        }
      ]
    },
    {
      "cell_type": "code",
      "metadata": {
        "id": "9gnZfcl0fFRd",
        "colab_type": "code",
        "colab": {
          "base_uri": "https://localhost:8080/",
          "height": 34
        },
        "outputId": "3867f239-ee91-4b54-f3c9-23d2a1d40228"
      },
      "source": [
        "# finding random numbers between 1to10000\n",
        "from random import *\n",
        "print(randint(1, 10000))"
      ],
      "execution_count": 1,
      "outputs": [
        {
          "output_type": "stream",
          "text": [
            "2981\n"
          ],
          "name": "stdout"
        }
      ]
    }
  ]
}