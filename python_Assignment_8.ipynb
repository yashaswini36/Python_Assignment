{
  "nbformat": 4,
  "nbformat_minor": 0,
  "metadata": {
    "colab": {
      "name": "python_Assignment_8.ipynb",
      "provenance": [],
      "collapsed_sections": []
    },
    "kernelspec": {
      "name": "python3",
      "display_name": "Python 3"
    }
  },
  "cells": [
    {
      "cell_type": "code",
      "metadata": {
        "id": "nCQ8Ej-wXXWt",
        "colab_type": "code",
        "colab": {
          "base_uri": "https://localhost:8080/",
          "height": 68
        },
        "outputId": "ae8d7c85-16d4-462b-bee2-432cd487c547"
      },
      "source": [
        "#removing newline\n",
        "str1='gitam university\\n'\n",
        "print(str1)\n",
        "print(str1.rstrip())"
      ],
      "execution_count": 1,
      "outputs": [
        {
          "output_type": "stream",
          "text": [
            "gitam university\n",
            "\n",
            "gitam university\n"
          ],
          "name": "stdout"
        }
      ]
    },
    {
      "cell_type": "code",
      "metadata": {
        "id": "oFPQ_r1EakD9",
        "colab_type": "code",
        "colab": {
          "base_uri": "https://localhost:8080/",
          "height": 34
        },
        "outputId": "2c20c332-27e3-4e80-9645-7cf63020f06b"
      },
      "source": [
        "#Count occurrences of a substring in a string\n",
        "str1 = 'The dogs are loyal and affectionate than humans I love dogs.'\n",
        "print(str1.count(\"dogs\"))\n",
        "\n"
      ],
      "execution_count": 2,
      "outputs": [
        {
          "output_type": "stream",
          "text": [
            "2\n"
          ],
          "name": "stdout"
        }
      ]
    },
    {
      "cell_type": "code",
      "metadata": {
        "id": "6J0m44rvbWV7",
        "colab_type": "code",
        "colab": {
          "base_uri": "https://localhost:8080/",
          "height": 34
        },
        "outputId": "1293d1d6-8794-4a1c-a6fd-0038903316a2"
      },
      "source": [
        "#converting string to list\n",
        "import ast\n",
        "color =\"['blue', 'Green', 'White']\"\n",
        "print(ast.literal_eval(color))\n"
      ],
      "execution_count": 3,
      "outputs": [
        {
          "output_type": "stream",
          "text": [
            "['blue', 'Green', 'White']\n"
          ],
          "name": "stdout"
        }
      ]
    },
    {
      "cell_type": "code",
      "metadata": {
        "id": "Fcl98VKzb7R1",
        "colab_type": "code",
        "colab": {
          "base_uri": "https://localhost:8080/",
          "height": 68
        },
        "outputId": "58bc84b4-3660-4bfb-f86a-9746041081f5"
      },
      "source": [
        "#deletion of a character\n",
        "def remove_char(str, n):\n",
        "      first_part = str[:n] \n",
        "      last_part = str[n+1:]\n",
        "      return first_part + last_part\n",
        "print(remove_char('Python', 0))\n",
        "print(remove_char('Gitam', 3))\n",
        "print(remove_char('university', 5))\n"
      ],
      "execution_count": 4,
      "outputs": [
        {
          "output_type": "stream",
          "text": [
            "ython\n",
            "Gitm\n",
            "univesity\n"
          ],
          "name": "stdout"
        }
      ]
    },
    {
      "cell_type": "code",
      "metadata": {
        "id": "mwEkAZbxcdip",
        "colab_type": "code",
        "colab": {
          "base_uri": "https://localhost:8080/",
          "height": 119
        },
        "outputId": "f8cd9e45-03ed-482e-9632-ee28ed27596c"
      },
      "source": [
        "#to print every character of a string entered by user in a new line using loop\n",
        "word=input(\"enter your word: \")\n",
        "for index,letter in enumerate(word,1):\n",
        "    print(index,\":\",letter)"
      ],
      "execution_count": 5,
      "outputs": [
        {
          "output_type": "stream",
          "text": [
            "enter your word: yashu\n",
            "1 : y\n",
            "2 : a\n",
            "3 : s\n",
            "4 : h\n",
            "5 : u\n"
          ],
          "name": "stdout"
        }
      ]
    },
    {
      "cell_type": "code",
      "metadata": {
        "id": "3Fb-wQEnd1Hd",
        "colab_type": "code",
        "colab": {
          "base_uri": "https://localhost:8080/",
          "height": 34
        },
        "outputId": "fd19d746-9ccf-46b8-aac7-aca898b7049e"
      },
      "source": [
        "# word count\n",
        "a = \"refrigerator\"\n",
        "count = 0\n",
        "for i in a:\n",
        "  count = count+1\n",
        "print (count)"
      ],
      "execution_count": 6,
      "outputs": [
        {
          "output_type": "stream",
          "text": [
            "12\n"
          ],
          "name": "stdout"
        }
      ]
    }
  ]
}