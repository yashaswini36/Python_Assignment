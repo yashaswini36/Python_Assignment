{
  "nbformat": 4,
  "nbformat_minor": 0,
  "metadata": {
    "colab": {
      "name": "python_Assignment_12.ipynb",
      "provenance": [],
      "collapsed_sections": []
    },
    "kernelspec": {
      "name": "python3",
      "display_name": "Python 3"
    }
  },
  "cells": [
    {
      "cell_type": "markdown",
      "metadata": {
        "id": "0X0MloE1tZK6",
        "colab_type": "text"
      },
      "source": [
        "\n",
        "**What is dictionary in Python? Explain with an example?**\n",
        "\n",
        "  Dictionaries are another example of a data structure. A dictionary is used to map or associate things you want to store the keys you need to get them. A dictionary in Python is just like a dictionary in the real world. Python Dictionary are defined into two elements Keys and Values.\n",
        "* Keys will be a single element.\n",
        "* Values can be a list or list within a list, numbers, etc.\n",
        "\n",
        "**syntax**\n",
        "\n",
        " Dict = { ' Tim': 18,  xyz,.. }\n",
        "\n",
        " **Example**\n",
        " \n",
        "Dict = {'Tim': 18,'Charlie':12,'Tiffany':22,'Robert':25}\t\n",
        "print (Dict['Tiffany'])"
      ]
    },
    {
      "cell_type": "code",
      "metadata": {
        "id": "xBNRaeaPrUCh",
        "colab_type": "code",
        "colab": {
          "base_uri": "https://localhost:8080/",
          "height": 34
        },
        "outputId": "3135a808-ff1b-42f9-804a-0e10c93691fa"
      },
      "source": [
        "# Python program to sum all the items in a list.\n",
        "def sum_list(items):\n",
        "    sum_numbers = 0\n",
        "    for x in items:\n",
        "        sum_numbers += x\n",
        "    return sum_numbers\n",
        "print(sum_list([1,6,8]))\n"
      ],
      "execution_count": 3,
      "outputs": [
        {
          "output_type": "stream",
          "text": [
            "15\n"
          ],
          "name": "stdout"
        }
      ]
    },
    {
      "cell_type": "code",
      "metadata": {
        "id": "WsWCbNd1r1Xg",
        "colab_type": "code",
        "colab": {
          "base_uri": "https://localhost:8080/",
          "height": 34
        },
        "outputId": "0d4afe70-10f2-47fb-8447-6485d4f5820c"
      },
      "source": [
        "#Python program to create a list of empty dictionaries\n",
        "n = 5\n",
        "l = [{} for _ in range(n)]\n",
        "print(l)\n"
      ],
      "execution_count": 4,
      "outputs": [
        {
          "output_type": "stream",
          "text": [
            "[{}, {}, {}, {}, {}]\n"
          ],
          "name": "stdout"
        }
      ]
    },
    {
      "cell_type": "code",
      "metadata": {
        "id": "Zk0UlZcIsCBW",
        "colab_type": "code",
        "colab": {
          "base_uri": "https://localhost:8080/",
          "height": 34
        },
        "outputId": "8cbaf70c-bb61-4e59-a370-6820d9711ae7"
      },
      "source": [
        "#Python program to access dictionary keys element by index.\n",
        "num = {'physics': 80, 'math': 90, 'chemistry': 86}\n",
        "print(list(num)[0])\n"
      ],
      "execution_count": 5,
      "outputs": [
        {
          "output_type": "stream",
          "text": [
            "physics\n"
          ],
          "name": "stdout"
        }
      ]
    },
    {
      "cell_type": "code",
      "metadata": {
        "id": "M_ZiihgPsNM4",
        "colab_type": "code",
        "colab": {
          "base_uri": "https://localhost:8080/",
          "height": 68
        },
        "outputId": "4f20d5c3-5bcd-4ec5-cd8b-6a05aefdd0df"
      },
      "source": [
        "#Python program to iterate over dictionaries using for loops\n",
        "d = {'Red': 1, 'Green': 2, 'Blue': 3} \n",
        "for color_key, value in d.items():\n",
        "     print(color_key, 'corresponds to ', d[color_key]) \n"
      ],
      "execution_count": 6,
      "outputs": [
        {
          "output_type": "stream",
          "text": [
            "Red corresponds to  1\n",
            "Green corresponds to  2\n",
            "Blue corresponds to  3\n"
          ],
          "name": "stdout"
        }
      ]
    },
    {
      "cell_type": "code",
      "metadata": {
        "id": "-EQdrZ1esVmX",
        "colab_type": "code",
        "colab": {
          "base_uri": "https://localhost:8080/",
          "height": 34
        },
        "outputId": "97a88288-c73d-4d12-f565-f4f8eb1d3099"
      },
      "source": [
        "#Python program to sum all the items in a dictionary.\n",
        "my_dict = {'data1':100,'data2':-54,'data3':247}\n",
        "print(sum(my_dict.values()))\n"
      ],
      "execution_count": 7,
      "outputs": [
        {
          "output_type": "stream",
          "text": [
            "293\n"
          ],
          "name": "stdout"
        }
      ]
    },
    {
      "cell_type": "code",
      "metadata": {
        "id": "wivz8SppsfWZ",
        "colab_type": "code",
        "colab": {
          "base_uri": "https://localhost:8080/",
          "height": 34
        },
        "outputId": "699d7e63-6b00-40aa-a98f-5263f468b7bb"
      },
      "source": [
        "#Python script to concatenate following dictionaries to create a new one\n",
        "dic1={1:10, 2:20}\n",
        "dic2={3:30, 4:40}\n",
        "dic3={5:50,6:60}\n",
        "dic4 = {}\n",
        "for d in (dic1, dic2, dic3): dic4.update(d)\n",
        "print(dic4)\n",
        "\n"
      ],
      "execution_count": 8,
      "outputs": [
        {
          "output_type": "stream",
          "text": [
            "{1: 10, 2: 20, 3: 30, 4: 40, 5: 50, 6: 60}\n"
          ],
          "name": "stdout"
        }
      ]
    },
    {
      "cell_type": "code",
      "metadata": {
        "id": "g_0ld3bEsy8G",
        "colab_type": "code",
        "colab": {
          "base_uri": "https://localhost:8080/",
          "height": 51
        },
        "outputId": "76d032b3-1441-4488-b13b-99a706edd301"
      },
      "source": [
        "#Python program to create a tuple\n",
        "tup = 'python', 'gitam'\n",
        "print(tup) \n",
        "tup = ('python', 'gitam') \n",
        "print(tup) \n"
      ],
      "execution_count": 10,
      "outputs": [
        {
          "output_type": "stream",
          "text": [
            "('python', 'gitam')\n",
            "('python', 'gitam')\n"
          ],
          "name": "stdout"
        }
      ]
    },
    {
      "cell_type": "code",
      "metadata": {
        "id": "1liv4BqvtJLr",
        "colab_type": "code",
        "colab": {
          "base_uri": "https://localhost:8080/",
          "height": 34
        },
        "outputId": "4e0a2d16-9d38-4fb4-8340-a1a730325ffd"
      },
      "source": [
        "#Python program to create a tuple with different data types\n",
        "tuplex = (\"tuple\", False, 3.2, 1)\n",
        "print(tuplex)\n"
      ],
      "execution_count": 11,
      "outputs": [
        {
          "output_type": "stream",
          "text": [
            "('tuple', False, 3.2, 1)\n"
          ],
          "name": "stdout"
        }
      ]
    },
    {
      "cell_type": "code",
      "metadata": {
        "id": "VEkh8SmCugXB",
        "colab_type": "code",
        "colab": {
          "base_uri": "https://localhost:8080/",
          "height": 34
        },
        "outputId": "eb8ffb57-667e-4c78-9101-f7ee457109d0"
      },
      "source": [
        "#Python program to convert a tuple to a string\n",
        "tup = ('e', 'x', 'e', 'r', 'c', 'i', 's', 'e', 's')\n",
        "str =  ''.join(tup)\n",
        "print(str)\n"
      ],
      "execution_count": 12,
      "outputs": [
        {
          "output_type": "stream",
          "text": [
            "exercises\n"
          ],
          "name": "stdout"
        }
      ]
    },
    {
      "cell_type": "code",
      "metadata": {
        "id": "40J0meIIvOrC",
        "colab_type": "code",
        "colab": {
          "base_uri": "https://localhost:8080/",
          "height": 170
        },
        "outputId": "5cae80a7-a8ee-4ae6-cf4c-d4e4f715f2b3"
      },
      "source": [
        "#Python program to slice a tuple\n",
        "tuplex = (2, 4, 3, 5, 4, 6, 7, 8, 6, 1)\n",
        "#used tuple[start:stop] the start index is inclusive and the stop index\n",
        "_slice = tuplex[3:5]\n",
        "#is exclusive\n",
        "print(_slice)\n",
        "#if the start index isn't defined, is taken from the beg inning of the tuple\n",
        "_slice = tuplex[:6]\n",
        "print(_slice)\n",
        "#if the end index isn't defined, is taken until the end of the tuple\n",
        "_slice = tuplex[5:]\n",
        "print(_slice)\n",
        "#if neither is defined, returns the full tuple\n",
        "_slice = tuplex[:]\n",
        "print(_slice)\n",
        "#The indexes can be defined with negative values\n",
        "_slice = tuplex[-8:-4]\n",
        "print(_slice)\n",
        "#create another tuple\n",
        "tuplex = tuple(\"HELLO WORLD\")\n",
        "print(tuplex)\n",
        "#step specify an increment between the elements to cut of the tuple\n",
        "#tuple[start:stop:step]\n",
        "_slice = tuplex[2:9:2]\n",
        "print(_slice)\n",
        "#returns a tuple with a jump every 3 items\n",
        "_slice = tuplex[::4]\n",
        "print(_slice)\n",
        "#when step is negative the jump is made back\n",
        "_slice = tuplex[9:2:-4]\n",
        "print(_slice)\n"
      ],
      "execution_count": 16,
      "outputs": [
        {
          "output_type": "stream",
          "text": [
            "(5, 4)\n",
            "(2, 4, 3, 5, 4, 6)\n",
            "(6, 7, 8, 6, 1)\n",
            "(2, 4, 3, 5, 4, 6, 7, 8, 6, 1)\n",
            "(3, 5, 4, 6)\n",
            "('H', 'E', 'L', 'L', 'O', ' ', 'W', 'O', 'R', 'L', 'D')\n",
            "('L', 'O', 'W', 'R')\n",
            "('H', 'O', 'R')\n",
            "('L', ' ')\n"
          ],
          "name": "stdout"
        }
      ]
    },
    {
      "cell_type": "code",
      "metadata": {
        "id": "xlmAXANDvlJH",
        "colab_type": "code",
        "colab": {
          "base_uri": "https://localhost:8080/",
          "height": 51
        },
        "outputId": "f8a8d282-dfe8-44ba-9bba-1e0347132e2a"
      },
      "source": [
        "# Python program to find the length of a tuple.\n",
        "tuplex = tuple(\"yashaswini\")\n",
        "print(tuplex)\n",
        "print(len(tuplex))\n"
      ],
      "execution_count": 17,
      "outputs": [
        {
          "output_type": "stream",
          "text": [
            "('y', 'a', 's', 'h', 'a', 's', 'w', 'i', 'n', 'i')\n",
            "10\n"
          ],
          "name": "stdout"
        }
      ]
    },
    {
      "cell_type": "code",
      "metadata": {
        "id": "EI43Ypxpv6d4",
        "colab_type": "code",
        "colab": {
          "base_uri": "https://localhost:8080/",
          "height": 34
        },
        "outputId": "f4b030f0-ec4c-4c94-e10c-7a16efae4020"
      },
      "source": [
        "#Python program to convert a tuple to a dictionary.\n",
        "tuplex = ((2, \"w\"),(3, \"r\"))\n",
        "print(dict((y, x) for x, y in tuplex))\n"
      ],
      "execution_count": 18,
      "outputs": [
        {
          "output_type": "stream",
          "text": [
            "{'w': 2, 'r': 3}\n"
          ],
          "name": "stdout"
        }
      ]
    },
    {
      "cell_type": "code",
      "metadata": {
        "id": "2AHJ58iZwBUX",
        "colab_type": "code",
        "colab": {
          "base_uri": "https://localhost:8080/",
          "height": 51
        },
        "outputId": "0812507f-175b-462c-db58-2851aca5138c"
      },
      "source": [
        "#Python program to reverse a tuple\n",
        "x = (\"gitam university\")\n",
        "y = reversed(x)\n",
        "print(tuple(y))\n",
        "x = (5, 10, 15, 20)\n",
        "y = reversed(x)\n",
        "print(tuple(y))\n"
      ],
      "execution_count": 19,
      "outputs": [
        {
          "output_type": "stream",
          "text": [
            "('y', 't', 'i', 's', 'r', 'e', 'v', 'i', 'n', 'u', ' ', 'm', 'a', 't', 'i', 'g')\n",
            "(20, 15, 10, 5)\n"
          ],
          "name": "stdout"
        }
      ]
    },
    {
      "cell_type": "code",
      "metadata": {
        "id": "mDk4OpoDwTot",
        "colab_type": "code",
        "colab": {
          "base_uri": "https://localhost:8080/",
          "height": 34
        },
        "outputId": "ef42da1e-4e4d-440e-a2f2-6dade8dc0a5a"
      },
      "source": [
        "#Python program to convert a list of tuples into a dictionary\n",
        "#create a list\n",
        "l = [(\"x\", 1), (\"x\", 2), (\"x\", 3), (\"y\", 1), (\"y\", 2), (\"z\", 1)]\n",
        "d = {}\n",
        "for a, b in l:\n",
        "    d.setdefault(a, []).append(b)\n",
        "print (d)\n"
      ],
      "execution_count": 20,
      "outputs": [
        {
          "output_type": "stream",
          "text": [
            "{'x': [1, 2, 3], 'y': [1, 2], 'z': [1]}\n"
          ],
          "name": "stdout"
        }
      ]
    },
    {
      "cell_type": "code",
      "metadata": {
        "id": "JVRgTCyAwdyo",
        "colab_type": "code",
        "colab": {
          "base_uri": "https://localhost:8080/",
          "height": 51
        },
        "outputId": "9fdc8e42-75af-4671-dfc2-156812fab2ef"
      },
      "source": [
        "#Python program to convert a list to a tuple.\n",
        "listx = [5, 10, 7, 4, 15, 3]\n",
        "print(listx)\n",
        "tuplex = tuple(listx)\n",
        "print(tuplex)\n"
      ],
      "execution_count": 21,
      "outputs": [
        {
          "output_type": "stream",
          "text": [
            "[5, 10, 7, 4, 15, 3]\n",
            "(5, 10, 7, 4, 15, 3)\n"
          ],
          "name": "stdout"
        }
      ]
    }
  ]
}