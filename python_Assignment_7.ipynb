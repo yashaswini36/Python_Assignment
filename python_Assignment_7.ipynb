{
  "nbformat": 4,
  "nbformat_minor": 0,
  "metadata": {
    "colab": {
      "name": "python_Assignment_7.ipynb",
      "provenance": [],
      "collapsed_sections": []
    },
    "kernelspec": {
      "name": "python3",
      "display_name": "Python 3"
    }
  },
  "cells": [
    {
      "cell_type": "code",
      "metadata": {
        "id": "D45YosCJ6OsQ",
        "colab_type": "code",
        "colab": {
          "base_uri": "https://localhost:8080/",
          "height": 136
        },
        "outputId": "bf73bc8d-64b7-47bb-b73b-a78b41a030ca"
      },
      "source": [
        "# Take 10 integers from keyboard using loop and print their average value on the screen \n",
        "num = int(input('How many numbers: '))\n",
        "total_sum = 0\n",
        " \n",
        "for n in range(num):\n",
        "    numbers = float(input('Enter number : '))\n",
        "    total_sum += numbers\n",
        " \n",
        "avg = total_sum/num\n",
        "print('Average of ', num, ' numbers is :', avg)"
      ],
      "execution_count": 1,
      "outputs": [
        {
          "output_type": "stream",
          "text": [
            "How many numbers: 5\n",
            "Enter number : 5\n",
            "Enter number : 6\n",
            "Enter number : 9\n",
            "Enter number : 10\n",
            "Enter number : 4\n",
            "Average of  5  numbers is : 6.8\n"
          ],
          "name": "stdout"
        }
      ]
    },
    {
      "cell_type": "code",
      "metadata": {
        "id": "VXv9CIpB64LS",
        "colab_type": "code",
        "colab": {
          "base_uri": "https://localhost:8080/",
          "height": 85
        },
        "outputId": "d0448638-851a-4929-c06c-d4fa2b5952df"
      },
      "source": [
        "# * pattern\n",
        "def pypart(n): \n",
        "\tfor i in range(0, n): \n",
        "\t\tfor j in range(0, i+1): \n",
        "\t\t\tprint(\"* \",end=\"\") \n",
        "\t\tprint(\"\\r\") \n",
        "n = 4\n",
        "pypart(n) \n"
      ],
      "execution_count": 2,
      "outputs": [
        {
          "output_type": "stream",
          "text": [
            "* \r\n",
            "* * \r\n",
            "* * * \r\n",
            "* * * * \r\n"
          ],
          "name": "stdout"
        }
      ]
    },
    {
      "cell_type": "code",
      "metadata": {
        "id": "1I7keqjq7tHK",
        "colab_type": "code",
        "colab": {
          "base_uri": "https://localhost:8080/",
          "height": 51
        },
        "outputId": "1a16e48e-b044-4a13-965e-3a103b3f284e"
      },
      "source": [
        "# printing all the numbers from 0 to 6 except 3 and 6\n",
        "for x in range(6):\n",
        "    if (x == 3 or x==6):\n",
        "        continue\n",
        "    print(x,end=' ')\n",
        "print(\"\\n\")"
      ],
      "execution_count": 3,
      "outputs": [
        {
          "output_type": "stream",
          "text": [
            "0 1 2 4 5 \n",
            "\n"
          ],
          "name": "stdout"
        }
      ]
    },
    {
      "cell_type": "code",
      "metadata": {
        "id": "wcv8DSQk8TiO",
        "colab_type": "code",
        "colab": {
          "base_uri": "https://localhost:8080/",
          "height": 51
        },
        "outputId": "7921a10c-336d-4cd5-e373-cec6c523e967"
      },
      "source": [
        "# length of the string\n",
        "s=input(\"enter a string: \")\n",
        "def string_length(str1):\n",
        "    count = 0\n",
        "    for char in str1:\n",
        "        count += 1\n",
        "    return count\n",
        "print(string_length(s))\n"
      ],
      "execution_count": 4,
      "outputs": [
        {
          "output_type": "stream",
          "text": [
            "enter a string: gitam university\n",
            "16\n"
          ],
          "name": "stdout"
        }
      ]
    },
    {
      "cell_type": "code",
      "metadata": {
        "id": "n_3mzZHS9Mli",
        "colab_type": "code",
        "colab": {
          "base_uri": "https://localhost:8080/",
          "height": 51
        },
        "outputId": "77274eb8-a9da-4153-e671-f10ee94ac3c4"
      },
      "source": [
        "#number of characters in a string\n",
        "s=input(\"enter your string: \")\n",
        "def char_frequency(str1):\n",
        "    dict = {}\n",
        "    for n in str1:\n",
        "        keys = dict.keys()\n",
        "        if n in keys:\n",
        "            dict[n] += 1\n",
        "        else:\n",
        "            dict[n] = 1\n",
        "    return dict\n",
        "print(char_frequency(s))\n"
      ],
      "execution_count": 5,
      "outputs": [
        {
          "output_type": "stream",
          "text": [
            "enter your string: yashaswini\n",
            "{'y': 1, 'a': 2, 's': 2, 'h': 1, 'w': 1, 'i': 2, 'n': 1}\n"
          ],
          "name": "stdout"
        }
      ]
    },
    {
      "cell_type": "code",
      "metadata": {
        "id": "QaRmiX3P-GU4",
        "colab_type": "code",
        "colab": {
          "base_uri": "https://localhost:8080/",
          "height": 68
        },
        "outputId": "93ea21aa-6457-4167-b8af-4008e487f67c"
      },
      "source": [
        "# Python program to get a single string from two given strings, separated by a space and swap the first two characters of each string\n",
        "a=input(\"enter first string: \")\n",
        "b=input(\"enter second string: \")\n",
        "def chars_mix_up(a, b):\n",
        "  new_a = b[:2] + a[2:]\n",
        "  new_b = a[:2] + b[2:]\n",
        "\n",
        "  return new_a + ' ' + new_b\n",
        "print(chars_mix_up(a,b))\n"
      ],
      "execution_count": 6,
      "outputs": [
        {
          "output_type": "stream",
          "text": [
            "enter first string: hello\n",
            "enter second string: world\n",
            "wollo herld\n"
          ],
          "name": "stdout"
        }
      ]
    },
    {
      "cell_type": "code",
      "metadata": {
        "id": "q6XQHT27_E5K",
        "colab_type": "code",
        "colab": {
          "base_uri": "https://localhost:8080/",
          "height": 68
        },
        "outputId": "e00d0c21-b7d5-489b-d23c-8ab8e6d66144"
      },
      "source": [
        "# converting a string to upper and lower case\n",
        "user_input = input(\"enter your string: \")\n",
        "print(\"My favourite language is \", user_input.upper())\n",
        "print(\"My favourite language is \", user_input.lower())\n"
      ],
      "execution_count": 7,
      "outputs": [
        {
          "output_type": "stream",
          "text": [
            "enter your string: python\n",
            "My favourite language is  PYTHON\n",
            "My favourite language is  python\n"
          ],
          "name": "stdout"
        }
      ]
    }
  ]
}