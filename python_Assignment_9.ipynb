{
  "nbformat": 4,
  "nbformat_minor": 0,
  "metadata": {
    "colab": {
      "name": "python_Assignment_9.ipynb",
      "provenance": [],
      "collapsed_sections": []
    },
    "kernelspec": {
      "name": "python3",
      "display_name": "Python 3"
    }
  },
  "cells": [
    {
      "cell_type": "code",
      "metadata": {
        "id": "BgX_CBz0ZhO4",
        "colab_type": "code",
        "colab": {
          "base_uri": "https://localhost:8080/",
          "height": 34
        },
        "outputId": "3c828ca0-84aa-4e1c-9403-98ec60d0439d"
      },
      "source": [
        "#Python program to multiplies all the items in a list.\n",
        "def multiply_list(items):\n",
        "    tot = 1\n",
        "    for x in items:\n",
        "        tot *= x\n",
        "    return tot\n",
        "print(\"The multiplies of items in the list is:\",multiply_list([1,2,8,10]))"
      ],
      "execution_count": 2,
      "outputs": [
        {
          "output_type": "stream",
          "text": [
            "The multiplies of items in the list is: 160\n"
          ],
          "name": "stdout"
        }
      ]
    },
    {
      "cell_type": "code",
      "metadata": {
        "id": "CmlELAiua2pu",
        "colab_type": "code",
        "colab": {
          "base_uri": "https://localhost:8080/",
          "height": 153
        },
        "outputId": "d0ece0fa-1551-4565-8a60-1a78ff12ef4c"
      },
      "source": [
        "#Python program to get the largest & smallest number from a list.\n",
        "NumList = []\n",
        "Number = int(input(\"Please enter the Total Number of List Elements: \"))\n",
        "for i in range(1, Number + 1):\n",
        "    value = int(input(\"Please enter the Value of %d Element : \" %i))\n",
        "    NumList.append(value)\n",
        "\n",
        "print(\"The Smallest Element in this List is : \", min(NumList))\n",
        "print(\"The Largest Element in this List is : \", max(NumList))\n"
      ],
      "execution_count": 3,
      "outputs": [
        {
          "output_type": "stream",
          "text": [
            "Please enter the Total Number of List Elements: 5\n",
            "Please enter the Value of 1 Element : 58\n",
            "Please enter the Value of 2 Element : 6\n",
            "Please enter the Value of 3 Element : 12\n",
            "Please enter the Value of 4 Element : 41\n",
            "Please enter the Value of 5 Element : 74\n",
            "The Smallest Element in this List is :  6\n",
            "The Largest Element in this List is :  74\n"
          ],
          "name": "stdout"
        }
      ]
    },
    {
      "cell_type": "code",
      "metadata": {
        "id": "QxL58CmAbnR0",
        "colab_type": "code",
        "colab": {
          "base_uri": "https://localhost:8080/",
          "height": 34
        },
        "outputId": "b7e31786-85a7-4a85-fa2e-e2badf9206f5"
      },
      "source": [
        "#Python program to remove duplicates from a list.\n",
        "a = [10,20,30,20,10,50,60,40,80,50,40]\n",
        "\n",
        "dup_items = set()\n",
        "uniq_items = []\n",
        "for x in a:\n",
        "    if x not in dup_items:\n",
        "        uniq_items.append(x)\n",
        "        dup_items.add(x)\n",
        "\n",
        "print(dup_items)\n"
      ],
      "execution_count": 4,
      "outputs": [
        {
          "output_type": "stream",
          "text": [
            "{40, 10, 80, 50, 20, 60, 30}\n"
          ],
          "name": "stdout"
        }
      ]
    },
    {
      "cell_type": "code",
      "metadata": {
        "id": "9hQpA6Enb_kX",
        "colab_type": "code",
        "colab": {
          "base_uri": "https://localhost:8080/",
          "height": 51
        },
        "outputId": "12bdeba4-9b67-4603-ec81-6982969b079f"
      },
      "source": [
        "#Python program to check a list is empty or not.\n",
        "list = input(\"enter list:\")\n",
        "def Enquiry(list): \n",
        "\tif len(list) == 0: \n",
        "\t\treturn 0\n",
        "\telse: \n",
        "\t\treturn 1\n",
        "\n",
        "if Enquiry(list): \n",
        "\tprint (\"The list is not empty\") \n",
        "else: \n",
        "\tprint(\"Empty List\") "
      ],
      "execution_count": 6,
      "outputs": [
        {
          "output_type": "stream",
          "text": [
            "enter list:1,2,2\n",
            "The list is not empty\n"
          ],
          "name": "stdout"
        }
      ]
    },
    {
      "cell_type": "markdown",
      "metadata": {
        "id": "d6NIDqQve0mH",
        "colab_type": "text"
      },
      "source": [
        "output:\n",
        "enter list:\n",
        "Empty List"
      ]
    },
    {
      "cell_type": "code",
      "metadata": {
        "id": "BBmnsDToe9_B",
        "colab_type": "code",
        "colab": {
          "base_uri": "https://localhost:8080/",
          "height": 34
        },
        "outputId": "948c1df3-1e07-4782-eea6-000892e58dd9"
      },
      "source": [
        "#Python program to shuffle and print a specified list.\n",
        "from random import shuffle\n",
        "color = ['Red', 'Green', 'White', 'Black', 'Pink', 'Yellow']\n",
        "shuffle(color)\n",
        "print(color)"
      ],
      "execution_count": 9,
      "outputs": [
        {
          "output_type": "stream",
          "text": [
            "['Green', 'Pink', 'Red', 'White', 'Black', 'Yellow']\n"
          ],
          "name": "stdout"
        }
      ]
    },
    {
      "cell_type": "markdown",
      "metadata": {
        "id": "cescCz1ofjb0",
        "colab_type": "text"
      },
      "source": [
        "output:\n",
        "['White', 'Green', 'Yellow', 'Pink', 'Black', 'Red']\n",
        "['Black', 'Green', 'Yellow', 'Red', 'White', 'Pink']\n",
        "['Red', 'White', 'Pink', 'Black', 'Green', 'Yellow']\n",
        "['Red', 'Yellow', 'Pink', 'White', 'Green', 'Black']\n",
        "\n"
      ]
    },
    {
      "cell_type": "code",
      "metadata": {
        "id": "OzwCjHArf76a",
        "colab_type": "code",
        "colab": {
          "base_uri": "https://localhost:8080/",
          "height": 34
        },
        "outputId": "4304dd3b-9b5d-47c6-c5a0-9622bafa9a44"
      },
      "source": [
        "#1.\tPython program to get the difference between the two lists.\n",
        "\n",
        "def Diff(li1, li2): \n",
        "\tli_dif = [i for i in li1 + li2 if i not in li1 or i not in li2] \n",
        "\treturn li_dif \n",
        " \n",
        "li1 = [10, 15, 20, 25, 30, 35, 40] \n",
        "li2 = [25, 40, 35] \n",
        "li3 = Diff(li1, li2) \n",
        "print(li3) \n"
      ],
      "execution_count": 14,
      "outputs": [
        {
          "output_type": "stream",
          "text": [
            "[10, 15, 20, 30]\n"
          ],
          "name": "stdout"
        }
      ]
    }
  ]
}